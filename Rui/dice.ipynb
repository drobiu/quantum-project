{
 "cells": [
  {
   "cell_type": "code",
   "execution_count": 6,
   "metadata": {},
   "outputs": [
    {
     "name": "stderr",
     "output_type": "stream",
     "text": [
      "Your experiment can not be optimized and may take longer to execute, see https://www.quantum-inspire.com/kbase/optimization-of-simulations/ for details.\n"
     ]
    },
    {
     "name": "stdout",
     "output_type": "stream",
     "text": [
      "\n",
      "Result from the remote Quantum Inspire backend:\n",
      "\n",
      "State\tCounts\n",
      "000\t188\n",
      "001\t182\n",
      "010\t161\n",
      "100\t185\n",
      "101\t190\n",
      "110\t118\n",
      "\n",
      "Result from the local Qiskit simulator backend:\n",
      "\n",
      "{'001': 191, '100': 182, '000': 199, '101': 196, '010': 121, '110': 135}\n",
      "                               ┌───┐┌─┐\n",
      "q_0: ──────────────────────────┤ H ├┤M├\n",
      "     ┌─────────┐   ┌─┐┌───────┐└─┬─┘└╥┘\n",
      "q_1: ┤ Rx(π/3) ├───┤M├┤ Rx(π) ├──■───╫─\n",
      "     └──┬───┬──┘┌─┐└╥┘└───────┘      ║ \n",
      "q_2: ───┤ H ├───┤M├─╫────────────────╫─\n",
      "        └───┘   └╥┘ ║                ║ \n",
      "c: 3/════════════╩══╩════════════════╩═\n",
      "                 2  1                0 \n"
     ]
    }
   ],
   "source": [
    "\"\"\"Example usage of the Quantum Inspire backend with the Qiskit SDK.\n",
    "A simple example that demonstrates how to use the SDK to create\n",
    "a circuit to demonstrate conditional gate execution.\n",
    "For documentation on how to use Qiskit we refer to\n",
    "[https://qiskit.org/](https://qiskit.org/).\n",
    "Specific to Quantum Inspire is the creation of the QI instance, which is used to set the authentication\n",
    "of the user and provides a Quantum Inspire backend that is used to execute the circuit.\n",
    "Copyright 2018-19 QuTech Delft. Licensed under the Apache License, Version 2.0.\n",
    "\"\"\"\n",
    "import os\n",
    "\n",
    "from qiskit import BasicAer, execute\n",
    "from qiskit.circuit import QuantumRegister, ClassicalRegister, QuantumCircuit\n",
    "import numpy as np\n",
    "from quantuminspire.credentials import get_authentication\n",
    "from quantuminspire.qiskit import QI\n",
    "\n",
    "QI_URL = os.getenv('API_URL', 'https://api.quantum-inspire.com/')\n",
    "\n",
    "   \n",
    "\n",
    "authentication = get_authentication()\n",
    "QI.set_authentication(authentication, QI_URL)\n",
    "qi_backend = QI.get_backend('QX single-node simulator')\n",
    "\n",
    "q = QuantumRegister(2, \"q\")\n",
    "c0 = ClassicalRegister(1, \"c0\")\n",
    "c1 = ClassicalRegister(1, \"c1\")\n",
    "c2 = ClassicalRegister(2, \"c2\")\n",
    "qc = QuantumCircuit(3,3, name=\"conditional\")\n",
    "quantum_dice6()\n",
    "\n",
    "\n",
    "qi_job = execute(qc, backend=qi_backend, shots=1024)\n",
    "qi_result = qi_job.result()\n",
    "histogram = qi_result.get_counts(qc)\n",
    "print(\"\\nResult from the remote Quantum Inspire backend:\\n\")\n",
    "print('State\\tCounts')\n",
    "[print('{0}\\t{1}'.format(state, counts)) for state, counts in histogram.items()]\n",
    "\n",
    "print(\"\\nResult from the local Qiskit simulator backend:\\n\")\n",
    "backend = BasicAer.get_backend(\"qasm_simulator\")\n",
    "job = execute(qc, backend=backend, shots=1024)\n",
    "result = job.result()\n",
    "print(result.get_counts(qc))\n",
    "print(qc.draw(output=\"text\"))"
   ]
  },
  {
   "cell_type": "code",
   "execution_count": 10,
   "metadata": {},
   "outputs": [],
   "source": [
    "def prime_factors(n):\n",
    "    i = 2\n",
    "    factors = []\n",
    "    while i * i <= n:\n",
    "        if n % i:\n",
    "            i += 1\n",
    "        else:\n",
    "            n //= i\n",
    "            factors.append(i)\n",
    "    if n > 1:\n",
    "        factors.append(n)\n",
    "    return factors"
   ]
  },
  {
   "cell_type": "code",
   "execution_count": 5,
   "metadata": {},
   "outputs": [],
   "source": [
    "def quantum_dice6():\n",
    "\n",
    "\n",
    "\n",
    "\n",
    "\n",
    "\n",
    "    qc.h([2])\n",
    "    qc.measure([2],[2])\n",
    "    qc.rx(np.pi/3,[1])\n",
    "\n",
    "    qc.measure([1],[1]) \n",
    "    qc.rx(np.pi,[1])\n",
    "    qc.ch([1],[0])\n",
    "    qc.measure([0],[0])"
   ]
  },
  {
   "cell_type": "code",
   "execution_count": null,
   "metadata": {},
   "outputs": [],
   "source": [
    "def dice_resolve(numarray,depth):\n",
    "    # input:\n",
    "    #   numarray: an array including the range of number to be generated, for example [1..20] [1,3,5]\n",
    "    \n",
    "    if numarray(1)==1:\n",
    "      return 1\n",
    "    else \n",
    "      if numarray(2)==0:\n",
    "        n_new=divide(numarray,depth)\n",
    "        return dice_resolve(n_new,depth+1)\n",
    "      else\n",
    "        arrayout=uneven_divide([n//2,n//2+1],depth)\n",
    "        return dice_resolve(arrayout,depth+1)\n",
    "\n",
    "\n",
    "\n",
    "\n",
    "           "
   ]
  },
  {
   "cell_type": "code",
   "execution_count": 14,
   "metadata": {},
   "outputs": [
    {
     "data": {
      "text/plain": [
       "1"
      ]
     },
     "execution_count": 14,
     "metadata": {},
     "output_type": "execute_result"
    }
   ],
   "source": [
    "len([1])\n"
   ]
  },
  {
   "cell_type": "code",
   "execution_count": null,
   "metadata": {},
   "outputs": [],
   "source": [
    "def divide(narray,depth)\n",
    "    if narray\n",
    "    qc.h(depth)\n",
    "    return [narray(1)//2,0]\n",
    "    "
   ]
  },
  {
   "cell_type": "code",
   "execution_count": null,
   "metadata": {},
   "outputs": [],
   "source": [
    "def uneven_divide(narray,depth)\n",
    "    gateangle=\n",
    "    if depth!=0:\n",
    "       qc.c-Rx q[depth],c[depth-1]\n",
    "           "
   ]
  }
 ],
 "metadata": {
  "interpreter": {
   "hash": "e4e1fa3c854cb8cc2e5daa25a073484cac7356ebcc6f54c9dcb2ba478bdaca38"
  },
  "kernelspec": {
   "display_name": "Python 3.9.7 64-bit ('quantumstuff': conda)",
   "language": "python",
   "name": "python3"
  },
  "language_info": {
   "codemirror_mode": {
    "name": "ipython",
    "version": 3
   },
   "file_extension": ".py",
   "mimetype": "text/x-python",
   "name": "python",
   "nbconvert_exporter": "python",
   "pygments_lexer": "ipython3",
   "version": "3.9.7"
  },
  "orig_nbformat": 4
 },
 "nbformat": 4,
 "nbformat_minor": 2
}

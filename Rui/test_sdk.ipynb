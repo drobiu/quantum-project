{
 "cells": [
  {
   "cell_type": "code",
   "execution_count": 1,
   "metadata": {},
   "outputs": [
    {
     "name": "stdout",
     "output_type": "stream",
     "text": [
      "Enter email:\n",
      "k.t.dobiczek@student.tudelft.nl\n",
      "Enter password\n",
      "········\n"
     ]
    },
    {
     "name": "stderr",
     "output_type": "stream",
     "text": [
      "Your experiment can not be optimized and may take longer to execute, see https://www.quantum-inspire.com/kbase/optimization-of-simulations/ for details.\n"
     ]
    },
    {
     "name": "stdout",
     "output_type": "stream",
     "text": [
      "\n",
      "Result from the remote Quantum Inspire backend:\n",
      "\n",
      "State\tCounts\n",
      "0 0 0\t241\n",
      "0 0 1\t264\n",
      "0 1 0\t274\n",
      "0 1 1\t245\n",
      "\n",
      "Result from the local Qiskit simulator backend:\n",
      "\n",
      "{'0 1 1': 265, '0 0 0': 242, '0 0 1': 242, '0 1 0': 275}\n"
     ]
    }
   ],
   "source": [
    "\"\"\"Example usage of the Quantum Inspire backend with the Qiskit SDK.\n",
    "A simple example that demonstrates how to use the SDK to create\n",
    "a circuit to demonstrate conditional gate execution.\n",
    "For documentation on how to use Qiskit we refer to\n",
    "[https://qiskit.org/](https://qiskit.org/).\n",
    "Specific to Quantum Inspire is the creation of the QI instance, which is used to set the authentication\n",
    "of the user and provides a Quantum Inspire backend that is used to execute the circuit.\n",
    "Copyright 2018-19 QuTech Delft. Licensed under the Apache License, Version 2.0.\n",
    "\"\"\"\n",
    "import os\n",
    "\n",
    "from qiskit import BasicAer, execute\n",
    "from qiskit.circuit import QuantumRegister, ClassicalRegister, QuantumCircuit\n",
    "\n",
    "from quantuminspire.credentials import get_authentication\n",
    "from quantuminspire.qiskit import QI\n",
    "\n",
    "QI_URL = os.getenv('API_URL', 'https://api.quantum-inspire.com/')\n",
    "\n",
    "\n",
    "authentication = get_authentication()\n",
    "QI.set_authentication(authentication, QI_URL)\n",
    "qi_backend = QI.get_backend('QX single-node simulator')\n",
    "\n",
    "q = QuantumRegister(3, \"q\")\n",
    "c0 = ClassicalRegister(1, \"c0\")\n",
    "c1 = ClassicalRegister(1, \"c1\")\n",
    "c2 = ClassicalRegister(1, \"c2\")\n",
    "qc = QuantumCircuit(q, c0, c1, c2, name=\"conditional\")\n",
    "\n",
    "qc.h(q[0])\n",
    "qc.h(q[1]).c_if(c0, 0)  # h-gate on q[1] is executed\n",
    "qc.h(q[2]).c_if(c1, 1)  # h-gate on q[2] is not executed\n",
    "\n",
    "qc.measure(q[0], c0)\n",
    "qc.measure(q[1], c1)\n",
    "qc.measure(q[2], c2)\n",
    "\n",
    "qi_job = execute(qc, backend=qi_backend, shots=1024)\n",
    "qi_result = qi_job.result()\n",
    "histogram = qi_result.get_counts(qc)\n",
    "print(\"\\nResult from the remote Quantum Inspire backend:\\n\")\n",
    "print('State\\tCounts')\n",
    "[print('{0}\\t{1}'.format(state, counts)) for state, counts in histogram.items()]\n",
    "\n",
    "print(\"\\nResult from the local Qiskit simulator backend:\\n\")\n",
    "backend = BasicAer.get_backend(\"qasm_simulator\")\n",
    "job = execute(qc, backend=backend, shots=1024)\n",
    "result = job.result()\n",
    "print(result.get_counts(qc))"
   ]
  },
  {
   "cell_type": "code",
   "execution_count": null,
   "metadata": {},
   "outputs": [],
   "source": []
  }
 ],
 "metadata": {
  "kernelspec": {
   "display_name": "Python 3",
   "language": "python",
   "name": "python3"
  },
  "language_info": {
   "codemirror_mode": {
    "name": "ipython",
    "version": 3
   },
   "file_extension": ".py",
   "mimetype": "text/x-python",
   "name": "python",
   "nbconvert_exporter": "python",
   "pygments_lexer": "ipython3",
   "version": "3.8.5"
  }
 },
 "nbformat": 4,
 "nbformat_minor": 4
}

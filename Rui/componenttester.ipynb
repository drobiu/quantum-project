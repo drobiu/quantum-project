{
 "cells": [
  {
   "cell_type": "code",
   "execution_count": 5,
   "metadata": {},
   "outputs": [
    {
     "name": "stdout",
     "output_type": "stream",
     "text": [
      "\n",
      "Result from the remote Quantum Inspire backend:\n",
      "\n",
      "State\tCounts\n",
      "00100011\t128\n",
      "\n",
      "Result from the local Qiskit simulator backend:\n",
      "\n",
      "{'00100011': 128}\n",
      "      ┌───┐┌─────────┐                        \n",
      " q_0: ┤ X ├┤0        ├────────────────────────\n",
      "      └───┘│         │                        \n",
      " q_1: ─────┤1        ├────────────────────────\n",
      "      ┌───┐│         │                        \n",
      " q_2: ┤ X ├┤2        ├────────────────────────\n",
      "      ├───┤│         │                        \n",
      " q_3: ┤ X ├┤3        ├────────────────────────\n",
      "      └───┘│         │┌─┐                     \n",
      " q_4: ─────┤4        ├┤M├─────────────────────\n",
      "           │         │└╥┘┌─┐                  \n",
      " q_5: ─────┤5        ├─╫─┤M├──────────────────\n",
      "           │   query │ ║ └╥┘┌─┐               \n",
      " q_6: ─────┤6        ├─╫──╫─┤M├───────────────\n",
      "           │         │ ║  ║ └╥┘┌─┐            \n",
      " q_7: ─────┤7        ├─╫──╫──╫─┤M├────────────\n",
      "           │         │ ║  ║  ║ └╥┘┌─┐         \n",
      " q_8: ─────┤8        ├─╫──╫──╫──╫─┤M├─────────\n",
      "           │         │ ║  ║  ║  ║ └╥┘┌─┐      \n",
      " q_9: ─────┤9        ├─╫──╫──╫──╫──╫─┤M├──────\n",
      "           │         │ ║  ║  ║  ║  ║ └╥┘┌─┐   \n",
      "q_10: ─────┤10       ├─╫──╫──╫──╫──╫──╫─┤M├───\n",
      "           │         │ ║  ║  ║  ║  ║  ║ └╥┘┌─┐\n",
      "q_11: ─────┤11       ├─╫──╫──╫──╫──╫──╫──╫─┤M├\n",
      "           └─────────┘ ║  ║  ║  ║  ║  ║  ║ └╥┘\n",
      " c: 8/═════════════════╩══╩══╩══╩══╩══╩══╩══╩═\n",
      "                       0  1  2  3  4  5  6  7 \n"
     ]
    }
   ],
   "source": [
    "import os\n",
    "\n",
    "\n",
    "from getpass import getpass\n",
    "from coreapi.auth import TokenAuthentication\n",
    "from qiskit import BasicAer, execute\n",
    "from qiskit.circuit import QuantumRegister, ClassicalRegister, QuantumCircuit\n",
    "from query import query\n",
    "from quantuminspire.credentials import get_authentication\n",
    "from quantuminspire.qiskit import QI\n",
    "\n",
    "\n",
    "QI_URL = os.getenv('API_URL', 'https://api.quantum-inspire.com/')\n",
    "authentication = TokenAuthentication('40a1a77810b8d0e10428efa64ae124e79f2b6336', scheme='token')\n",
    "QI.set_authentication(authentication, QI_URL)\n",
    "qi_backend = QI.get_backend('QX single-node simulator')\n",
    "\n",
    "\n",
    "q = QuantumRegister(12, \"q\")\n",
    "c = ClassicalRegister(8, \"c\")\n",
    "qc = QuantumCircuit(q, c, name=\"conditional\")\n",
    "\n",
    "qc.x([0,2,3])\n",
    "qc=qc.compose(query().to_gate(label=\"query\"),range(12))\n",
    "\n",
    "qc.measure(q[4:12],c[0:8])\n",
    "\n",
    "qi_job = execute(qc, backend=qi_backend, shots=128)\n",
    "qi_result = qi_job.result()\n",
    "histogram = qi_result.get_counts(qc)\n",
    "print(\"\\nResult from the remote Quantum Inspire backend:\\n\")\n",
    "print('State\\tCounts')\n",
    "[print('{0}\\t{1}'.format(state, counts)) for state, counts in histogram.items()]\n",
    "\n",
    "print(\"\\nResult from the local Qiskit simulator backend:\\n\")\n",
    "backend = BasicAer.get_backend(\"qasm_simulator\")\n",
    "job = execute(qc, backend=backend, shots=128)\n",
    "result = job.result()\n",
    "print(result.get_counts(qc))\n",
    "print(qc.draw(output=\"text\"))"
   ]
  },
  {
   "cell_type": "code",
   "execution_count": 1,
   "metadata": {},
   "outputs": [
    {
     "ename": "SyntaxError",
     "evalue": "invalid syntax (Temp/ipykernel_204/2151542490.py, line 1)",
     "output_type": "error",
     "traceback": [
      "\u001b[1;36m  File \u001b[1;32m\"C:\\Users\\22377\\AppData\\Local\\Temp/ipykernel_204/2151542490.py\"\u001b[1;36m, line \u001b[1;32m1\u001b[0m\n\u001b[1;33m    print(0:8)\u001b[0m\n\u001b[1;37m           ^\u001b[0m\n\u001b[1;31mSyntaxError\u001b[0m\u001b[1;31m:\u001b[0m invalid syntax\n"
     ]
    }
   ],
   "source": []
  }
 ],
 "metadata": {
  "kernelspec": {
   "display_name": "Python 3",
   "language": "python",
   "name": "python3"
  },
  "language_info": {
   "codemirror_mode": {
    "name": "ipython",
    "version": 3
   },
   "file_extension": ".py",
   "mimetype": "text/x-python",
   "name": "python",
   "nbconvert_exporter": "python",
   "pygments_lexer": "ipython3",
   "version": "3.9.7"
  }
 },
 "nbformat": 4,
 "nbformat_minor": 4
}

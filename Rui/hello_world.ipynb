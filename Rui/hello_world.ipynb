{
 "cells": [
  {
   "cell_type": "code",
   "execution_count": 5,
   "metadata": {},
   "outputs": [
    {
     "name": "stdout",
     "output_type": "stream",
     "text": [
      "Enter email:\n",
      "k.t.dobiczek@student.tudelft.nl\n",
      "Enter password\n",
      "········\n",
      "\n",
      "Result from the remote Quantum Inspire backend:\n",
      "\n",
      "State\tCounts\n",
      "00 0 0\t510\n",
      "11 0 0\t514\n",
      "\n",
      "Result from the local Qiskit simulator backend:\n",
      "\n",
      "{'11 0 0': 512, '00 0 0': 512}\n"
     ]
    },
    {
     "data": {
      "image/png": "[encoded data removed]",
      "text/plain": [
       "<PIL.Image.Image image mode=RGB size=332x171 at 0x1DEE02D4BB0>"
      ]
     },
     "execution_count": 5,
     "metadata": {},
     "output_type": "execute_result"
    }
   ],
   "source": [
    "\"\"\"Example usage of the Quantum Inspire backend with the Qiskit SDK.\n",
    "A simple example that demonstrates how to use the SDK to create\n",
    "a circuit to demonstrate conditional gate execution.\n",
    "For documentation on how to use Qiskit we refer to\n",
    "[https://qiskit.org/](https://qiskit.org/).\n",
    "Specific to Quantum Inspire is the creation of the QI instance, which is used to set the authentication\n",
    "of the user and provides a Quantum Inspire backend that is used to execute the circuit.\n",
    "Copyright 2018-19 QuTech Delft. Licensed under the Apache License, Version 2.0.\n",
    "\"\"\"\n",
    "import os\n",
    "\n",
    "from qiskit import BasicAer, execute\n",
    "from qiskit.circuit import QuantumRegister, ClassicalRegister, QuantumCircuit\n",
    "\n",
    "from quantuminspire.credentials import get_authentication\n",
    "from quantuminspire.qiskit import QI\n",
    "\n",
    "QI_URL = os.getenv('API_URL', 'https://api.quantum-inspire.com/')\n",
    "\n",
    "\n",
    "authentication = get_authentication()\n",
    "QI.set_authentication(authentication, QI_URL)\n",
    "qi_backend = QI.get_backend('QX single-node simulator')\n",
    "\n",
    "q = QuantumRegister(2, \"q\")\n",
    "c0 = ClassicalRegister(1, \"c0\")\n",
    "c1 = ClassicalRegister(1, \"c1\")\n",
    "qc = QuantumCircuit(3, name=\"conditional\")\n",
    "\n",
    "qc.h([0, 2])\n",
    "qc.cnot(q[0], q[1])\n",
    "\n",
    "qc.measure_all()\n",
    "\n",
    "qi_job = execute(qc, backend=qi_backend, shots=1024)\n",
    "qi_result = qi_job.result()\n",
    "histogram = qi_result.get_counts(qc)\n",
    "print(\"\\nResult from the remote Quantum Inspire backend:\\n\")\n",
    "print('State\\tCounts')\n",
    "[print('{0}\\t{1}'.format(state, counts)) for state, counts in histogram.items()]\n",
    "\n",
    "print(\"\\nResult from the local Qiskit simulator backend:\\n\")\n",
    "backend = BasicAer.get_backend(\"qasm_simulator\")\n",
    "job = execute(qc, backend=backend, shots=1024)\n",
    "result = job.result()\n",
    "print(result.get_counts(qc))\n",
    "qc.draw(output=\"latex\")"
   ]
  },
  {
   "cell_type": "code",
   "execution_count": null,
   "metadata": {},
   "outputs": [],
   "source": []
  }
 ],
 "metadata": {
  "kernelspec": {
   "display_name": "Python 3",
   "language": "python",
   "name": "python3"
  },
  "language_info": {
   "codemirror_mode": {
    "name": "ipython",
    "version": 3
   },
   "file_extension": ".py",
   "mimetype": "text/x-python",
   "name": "python",
   "nbconvert_exporter": "python",
   "pygments_lexer": "ipython3",
   "version": "3.8.5"
  }
 },
 "nbformat": 4,
 "nbformat_minor": 4
}

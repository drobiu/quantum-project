{
 "cells": [
  {
   "cell_type": "code",
   "execution_count": 3,
   "metadata": {},
   "outputs": [
    {
     "name": "stdout",
     "output_type": "stream",
     "text": [
      "\n",
      "Result from the remote Quantum Inspire backend:\n",
      "\n",
      "State\tCounts\n",
      "0\t511\n",
      "1\t513\n",
      "\n",
      "Result from the local Qiskit simulator backend:\n",
      "\n",
      "{'0': 524, '1': 500}\n"
     ]
    },
    {
     "data": {
      "image/png": "[encoded data removed]",
      "text/plain": [
       "<Figure size 204.976x144.48 with 1 Axes>"
      ]
     },
     "execution_count": 3,
     "metadata": {},
     "output_type": "execute_result"
    }
   ],
   "source": [
    "import os\n",
    "import math \n",
    "\n",
    "from getpass import getpass\n",
    "from coreapi.auth import TokenAuthentication\n",
    "from qiskit import BasicAer, execute\n",
    "from qiskit.circuit import QuantumRegister, ClassicalRegister, QuantumCircuit\n",
    "\n",
    "from quantuminspire.credentials import get_authentication\n",
    "from quantuminspire.qiskit import QI\n",
    "\n",
    "QI_URL = os.getenv('API_URL', 'https://api.quantum-inspire.com/')\n",
    "\n",
    "QI.set_authentication()\n",
    "qi_backend = QI.get_backend('QX single-node simulator')\n",
    "\n",
    "q = QuantumRegister(1, \"q\")\n",
    "c0 = ClassicalRegister(1, \"c0\")\n",
    "\n",
    "qc = QuantumCircuit(q, c0, name=\"coin flip\")\n",
    "\n",
    "qc.h(q[0])\n",
    "\n",
    "qc.measure(q[0], c0)\n",
    "\n",
    "qi_job = execute(qc, backend=qi_backend, shots=1024)\n",
    "qi_result = qi_job.result()\n",
    "histogram = qi_result.get_counts(qc)\n",
    "print(\"\\nResult from the remote Quantum Inspire backend:\\n\")\n",
    "print('State\\tCounts')\n",
    "[print('{0}\\t{1}'.format(state, counts)) for state, counts in histogram.items()]\n",
    "\n",
    "print(\"\\nResult from the local Qiskit simulator backend:\\n\")\n",
    "backend = BasicAer.get_backend(\"qasm_simulator\")\n",
    "job = execute(qc, backend=backend, shots=1024)\n",
    "result = job.result()\n",
    "print(result.get_counts(qc))\n",
    "qc.draw(output=\"mpl\")"
   ]
  },
  {
   "cell_type": "code",
   "execution_count": null,
   "metadata": {},
   "outputs": [],
   "source": []
  }
 ],
 "metadata": {
  "kernelspec": {
   "display_name": "Python 3",
   "language": "python",
   "name": "python3"
  },
  "language_info": {
   "codemirror_mode": {
    "name": "ipython",
    "version": 3
   },
   "file_extension": ".py",
   "mimetype": "text/x-python",
   "name": "python",
   "nbconvert_exporter": "python",
   "pygments_lexer": "ipython3",
   "version": "3.8.5"
  }
 },
 "nbformat": 4,
 "nbformat_minor": 4
}

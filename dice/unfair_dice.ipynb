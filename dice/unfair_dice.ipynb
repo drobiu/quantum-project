{
 "cells": [
  {
   "cell_type": "code",
   "execution_count": 1,
   "metadata": {
    "scrolled": false
   },
   "outputs": [
    {
     "name": "stdout",
     "output_type": "stream",
     "text": [
      "\n",
      "Result from the remote Quantum Inspire backend:\n",
      "\n",
      "State\tCounts\n",
      "0 0 0\t118\n",
      "0 1 0\t113\n",
      "1 0 0\t250\n",
      "1 0 1\t123\n",
      "1 1 0\t141\n",
      "1 1 1\t279\n",
      "\n",
      "Result from the local Qiskit simulator backend:\n",
      "\n",
      "{'1 0 0': 270, '0 1 0': 128, '0 0 0': 134, '1 1 0': 111, '1 1 1': 245, '1 0 1': 136}\n"
     ]
    },
    {
     "data": {
      "image/png": "[encoded data removed]",
      "text/plain": [
       "<Figure size 507.997x445.48 with 1 Axes>"
      ]
     },
     "execution_count": 1,
     "metadata": {},
     "output_type": "execute_result"
    }
   ],
   "source": [
    "import os\n",
    "import math \n",
    "\n",
    "from getpass import getpass\n",
    "from coreapi.auth import TokenAuthentication\n",
    "from qiskit import BasicAer, execute\n",
    "from qiskit.circuit import QuantumRegister, ClassicalRegister, QuantumCircuit\n",
    "\n",
    "from quantuminspire.credentials import get_authentication\n",
    "from quantuminspire.qiskit import QI\n",
    "\n",
    "QI_URL = os.getenv('API_URL', 'https://api.quantum-inspire.com/')\n",
    "\n",
    "QI.set_authentication()\n",
    "qi_backend = QI.get_backend('QX single-node simulator')\n",
    "\n",
    "q = QuantumRegister(4, \"q\")\n",
    "c0 = ClassicalRegister(1, \"c0\")\n",
    "c1 = ClassicalRegister(1, \"c1\")\n",
    "c2 = ClassicalRegister(1, \"c2\")\n",
    "qc = QuantumCircuit(q, c0, c1, c2, name=\"uneven dice\")\n",
    "\n",
    "qc.h(q[0:3])\n",
    "\n",
    "# If q_0 is 1, set q_3 to 1\n",
    "qc.cnot(q[0], q[3])\n",
    "\n",
    "# Swap q_0 with q_2 if q_3 is 1\n",
    "qc.fredkin(q[3], q[0], q[2])\n",
    "\n",
    "# Not q_0 if q_2 and q_1 were 1 (75% of the shots) \n",
    "qc.toffoli(q[1], q[2], q[0])\n",
    "\n",
    "qc.measure(q[0], c0)\n",
    "qc.measure(q[1], c1)\n",
    "qc.measure(q[2], c2)\n",
    "\n",
    "qi_job = execute(qc, backend=qi_backend, shots=1024)\n",
    "qi_result = qi_job.result()\n",
    "histogram = qi_result.get_counts(qc)\n",
    "print(\"\\nResult from the remote Quantum Inspire backend:\\n\")\n",
    "print('State\\tCounts')\n",
    "[print('{0}\\t{1}'.format(state, counts)) for state, counts in histogram.items()]\n",
    "\n",
    "print(\"\\nResult from the local Qiskit simulator backend:\\n\")\n",
    "backend = BasicAer.get_backend(\"qasm_simulator\")\n",
    "job = execute(qc, backend=backend, shots=1024)\n",
    "result = job.result()\n",
    "print(result.get_counts(qc))\n",
    "qc.draw(output=\"mpl\")"
   ]
  },
  {
   "cell_type": "code",
   "execution_count": null,
   "metadata": {},
   "outputs": [],
   "source": []
  }
 ],
 "metadata": {
  "kernelspec": {
   "display_name": "Python 3",
   "language": "python",
   "name": "python3"
  },
  "language_info": {
   "codemirror_mode": {
    "name": "ipython",
    "version": 3
   },
   "file_extension": ".py",
   "mimetype": "text/x-python",
   "name": "python",
   "nbconvert_exporter": "python",
   "pygments_lexer": "ipython3",
   "version": "3.8.5"
  }
 },
 "nbformat": 4,
 "nbformat_minor": 4
}
